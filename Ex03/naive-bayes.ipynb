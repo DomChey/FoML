{
 "cells": [
  {
   "cell_type": "markdown",
   "metadata": {},
   "source": [
    "# Fundamentals of Machine Learning - Exercise 3\n",
    "Dominique Cheray & Jacqueline Wagner\n",
    "## Naive Bayes Classifier"
   ]
  },
  {
   "cell_type": "code",
   "execution_count": 5,
   "metadata": {
    "collapsed": true
   },
   "outputs": [],
   "source": [
    "from sklearn.datasets import load_digits\n",
    "import numpy as np\n",
    "import matplotlib.pyplot as plt\n",
    "from scipy import stats\n",
    "from sklearn import model_selection\n",
    "from sklearn.metrics import confusion_matrix"
   ]
  },
  {
   "cell_type": "code",
   "execution_count": 2,
   "metadata": {},
   "outputs": [
    {
     "name": "stdout",
     "output_type": "stream",
     "text": [
      "[26 18]\n"
     ]
    }
   ],
   "source": [
    "digits = load_digits()\n",
    "data = digits[\"data\"]\n",
    "images = digits[\"images\"]\n",
    "target = digits[\"target\"]\n",
    "target_names = digits[\"target_names\"]\n",
    "\n",
    "# filter data for 3 and 9\n",
    "filter_mask = (target == 3) | (target == 9)\n",
    "data = data[filter_mask]\n",
    "images = images[filter_mask]\n",
    "target = target[filter_mask]\n",
    "# get averave image of three and nine, calculate difference and keept two most\n",
    "# different pixel in the reduced data\n",
    "threes = images[target == 3]\n",
    "nines = images[target == 9]\n",
    "threes_average = np.mean(threes, axis=0)\n",
    "nines_average = np.mean(nines, axis=0)\n",
    "difference = np.abs(np.subtract(threes_average, nines_average))\n",
    "difference_flat = difference.flatten()\n",
    "indices = difference_flat.argsort()[-2:][::-1]\n",
    "print(indices)\n",
    "\n",
    "# split data into test and training set\n",
    "x_train, x_test, y_train, y_test = model_selection.train_test_split(data,\n",
    "                                                                    target,\n",
    "                                                                    test_size=0.33,\n",
    "                                                                    random_state=0)\n",
    "x_train_reduced = x_train[:, [18, 26]]\n",
    "x_test_reduced = x_test[:, [18, 26]]\n"
   ]
  },
  {
   "cell_type": "code",
   "execution_count": 18,
   "metadata": {
    "collapsed": true
   },
   "outputs": [],
   "source": [
    "def fit_naive_bayes(features, labels, bincount=0):\n",
    "    unique_labels = np.unique(labels)\n",
    "    N = len(features)\n",
    "    L = bincount\n",
    "    histograms = []\n",
    "    binning = []\n",
    "    # if no bincount is given determine it according to freedman diaconis\n",
    "    if bincount == 0:\n",
    "        iqrs = stats.iqr(features, axis=0)\n",
    "        delta_x = iqrs[:] * 2.0 / (N ** (1.0/3.0))\n",
    "        delta_x[delta_x == 0] = np.max(features)\n",
    "        nr_bins = np.ceil((np.max(features, axis=0) - np.min(features, axis=0)) / delta_x)\n",
    "        L = int(np.mean(nr_bins))\n",
    "    for label in unique_labels:\n",
    "        cl = features[labels == label]\n",
    "        # adapt delta_x to bincount (either given or determined by freedman diaconis)\n",
    "        delta_x = ((np.max(cl, axis=0) - np.min(cl, axis=0)) / (L-1))\n",
    "        delta_x[delta_x == 0] = np.max(cl)\n",
    "        lower_bound = np.min(cl, axis=0)\n",
    "        binshape = np.zeros((len(features[0]), 2))\n",
    "        binshape[:, 0] = lower_bound\n",
    "        binshape[:, 1] = delta_x\n",
    "        binning.append(binshape)\n",
    "        # assign a bin nr to every feature of every instance of this class\n",
    "        bins = np.floor((cl - lower_bound)/delta_x).astype(int)\n",
    "        hist = np.zeros((len(cl[0]), (L)))\n",
    "        for i in range(len(cl[0])):\n",
    "            # for every feature fill the bins of the histogram\n",
    "            # with the probability for x in bin\n",
    "            values, counts = np.unique(bins[:, i], return_counts=True)\n",
    "            hist[i][values] = np.log(counts / (len(cl) * delta_x[i]))\n",
    "        histograms.append(hist)\n",
    "    histograms = np.asarray(histograms)\n",
    "    binning = np.asarray(binning)\n",
    "    return histograms, binning\n",
    "\n",
    "\n",
    "hists64, binning64 = fit_naive_bayes(x_train, y_train, 8)\n",
    "\n",
    "hists2, binning2 = fit_naive_bayes(x_train_reduced, y_train)"
   ]
  },
  {
   "cell_type": "code",
   "execution_count": 19,
   "metadata": {
    "collapsed": true
   },
   "outputs": [],
   "source": [
    "def predict_naive_bayes(test_features, histograms, binning):\n",
    "    L = len(histograms[0][0]) - 1\n",
    "    prediction = []\n",
    "    for i in range(len(histograms)):\n",
    "        bins = np.floor((test_features - binning[i, :, 0]) /binning[i, :, 1]).astype(int)\n",
    "        bins[bins < 0] = 0\n",
    "        bins[bins > L] = L\n",
    "        probabilites = np.zeros(len(bins))\n",
    "        # bins: samples x features\n",
    "        # hist: classes x features x nr_bins\n",
    "        # for every sample\n",
    "        for j in range(len(bins)):\n",
    "            sum = 0\n",
    "            # for every feature\n",
    "            for k in range(len(bins[i])):\n",
    "                # sum probablites for the features of this sample under class i\n",
    "                sum = sum + histograms[i][k][bins[j][k]]\n",
    "            probabilites[j] = sum\n",
    "        prediction.append(probabilites)\n",
    "    prediction = np.asarray(prediction)\n",
    "    return np.argmax(prediction, axis=0)\n",
    "\n",
    "predicted_labels2 = predict_naive_bayes(x_test_reduced, hists2, binning2)\n",
    "predicted_labels2[predicted_labels2 == 0] = 3\n",
    "predicted_labels2[predicted_labels2 == 1] = 9\n",
    "\n",
    "predicted_labels64 = predict_naive_bayes(x_test, hists64, binning64)\n",
    "predicted_labels64[predicted_labels64 == 0] = 3\n",
    "predicted_labels64[predicted_labels64 == 1] = 9"
   ]
  },
  {
   "cell_type": "code",
   "execution_count": 20,
   "metadata": {},
   "outputs": [
    {
     "name": "stdout",
     "output_type": "stream",
     "text": [
      "[[53  9]\n",
      " [ 5 53]]\n",
      "[[57  5]\n",
      " [ 1 57]]\n"
     ]
    }
   ],
   "source": [
    "confusion2 = confusion_matrix(y_test, predicted_labels2)\n",
    "confusion64 = confusion_matrix(y_test, predicted_labels64)\n",
    "print(confusion2)\n",
    "print(confusion64)"
   ]
  },
  {
   "cell_type": "code",
   "execution_count": 21,
   "metadata": {},
   "outputs": [
    {
     "data": {
      "image/png": "[encoded data removed]",
      "text/plain": [
       "<matplotlib.figure.Figure at 0x7fc85ebd70f0>"
      ]
     },
     "metadata": {},
     "output_type": "display_data"
    }
   ],
   "source": [
    "x_test_rescaled = x_test_reduced[:,:] * 200 / 16\n",
    "x_train_rescaled = x_train_reduced[:,:] * 200 / 16\n",
    "# train naive bayes on the image space\n",
    "hists_scaled, binnings_scaled = fit_naive_bayes(x_train_rescaled, y_train)\n",
    "xx, yy = np.meshgrid(np.arange(0, 200, 1),\n",
    "np.arange(0, 200, 1))\n",
    "z = predict_naive_bayes(np.c_[xx.ravel(), yy.ravel()], hists_scaled, binnings_scaled)\n",
    "z = z.reshape(xx.shape)\n",
    "plt.contourf(xx, yy, z, alpha=0.1, cmap=plt.cm.coolwarm)\n",
    "plt.scatter(x_test_rescaled[:,0], x_test_rescaled[:,1], c=y_test, alpha=1, cmap=plt.cm.coolwarm)\n",
    "plt.show()"
   ]
  },
  {
   "cell_type": "code",
   "execution_count": null,
   "metadata": {
    "collapsed": true
   },
   "outputs": [],
   "source": []
  }
 ],
 "metadata": {
  "kernelspec": {
   "display_name": "Python 3",
   "language": "python",
   "name": "python3"
  },
  "language_info": {
   "codemirror_mode": {
    "name": "ipython",
    "version": 3
   },
   "file_extension": ".py",
   "mimetype": "text/x-python",
   "name": "python",
   "nbconvert_exporter": "python",
   "pygments_lexer": "ipython3",
   "version": "3.5.2"
  }
 },
 "nbformat": 4,
 "nbformat_minor": 2
}
