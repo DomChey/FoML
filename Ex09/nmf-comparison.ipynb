{
 "cells": [
  {
   "cell_type": "markdown",
   "metadata": {},
   "source": [
    "# Fundamentals of Machine Learning - Exercise 9\n",
    "Dominique Cheray & Manuel Krämer"
   ]
  },
  {
   "cell_type": "code",
   "execution_count": 1,
   "metadata": {
    "collapsed": true
   },
   "outputs": [],
   "source": [
    "import math\n",
    "import matplotlib.pyplot as plt\n",
    "import numpy as np\n",
    "import pandas as pd\n",
    "from sklearn.datasets import load_digits\n",
    "from sklearn import decomposition"
   ]
  },
  {
   "cell_type": "markdown",
   "metadata": {},
   "source": [
    "## 1 Setup"
   ]
  },
  {
   "cell_type": "code",
   "execution_count": 2,
   "metadata": {
    "collapsed": true
   },
   "outputs": [],
   "source": [
    "digits = load_digits()\n",
    "X = digits[\"data\"] / 255\n",
    "Y = digits[\"target\"]"
   ]
  },
  {
   "cell_type": "markdown",
   "metadata": {},
   "source": [
    "##  2 Non-negative matrix factorization vs. SVD comparison"
   ]
  },
  {
   "cell_type": "code",
   "execution_count": 3,
   "metadata": {},
   "outputs": [
    {
     "data": {
      "image/png": "[encoded data removed]",
      "text/plain": [
       "<matplotlib.figure.Figure at 0x7f27a1a0f128>"
      ]
     },
     "metadata": {},
     "output_type": "display_data"
    }
   ],
   "source": [
    "nmf = decomposition.NMF(n_components=10)\n",
    "W1 = nmf.fit_transform(X)\n",
    "H1 = nmf.components_\n",
    "\n",
    "means = np.mean(X, axis=0)\n",
    "X_centered = X - means\n",
    "\n",
    "U, S, V = np.linalg.svd(X_centered, full_matrices=True)\n",
    "V = V + means\n",
    "\n",
    "fig, axes = plt.subplots(2, 6, figsize=(15, 10))\n",
    "axes = axes.ravel()\n",
    "fig.suptitle('Top: components of NMF, Bottom: components of SVD')\n",
    "for i in range(6):\n",
    "    axes[i].imshow(H1[i,:].reshape(8, 8), cmap=plt.cm.Greys_r)\n",
    "for i in range(6, 12):\n",
    "    axes[i].imshow(V[i-6, :].reshape(8, 8), cmap=plt.cm.Greys_r)\n",
    "plt.show()"
   ]
  },
  {
   "cell_type": "markdown",
   "metadata": {},
   "source": [
    "For the NMF components most of the values are 0 which makes senes, since for all numbers the biggest part of the image is just black background. One can also see prototypical parts of the numbers out of whom the different numbers can be formed.\n",
    "For the SVD the values of the components vary way more and rather form protoypical numbers and not prototypical parts of numbers."
   ]
  }
 ],
 "metadata": {
  "kernelspec": {
   "display_name": "Python 3",
   "language": "python",
   "name": "python3"
  },
  "language_info": {
   "codemirror_mode": {
    "name": "ipython",
    "version": 3
   },
   "file_extension": ".py",
   "mimetype": "text/x-python",
   "name": "python",
   "nbconvert_exporter": "python",
   "pygments_lexer": "ipython3",
   "version": "3.5.2"
  }
 },
 "nbformat": 4,
 "nbformat_minor": 2
}
