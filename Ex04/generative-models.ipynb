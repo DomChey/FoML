{
 "cells": [
  {
   "cell_type": "markdown",
   "metadata": {},
   "source": [
    "# Fundamentals of Machine Learning - Exercise 4\n",
    "Dominique Cheray & Jacqueline Wagner"
   ]
  },
  {
   "cell_type": "code",
   "execution_count": 6,
   "metadata": {
    "collapsed": true
   },
   "outputs": [],
   "source": [
    "import h5py\n",
    "import matplotlib.pyplot as plt\n",
    "import numpy as np\n",
    "from scipy import stats"
   ]
  },
  {
   "cell_type": "markdown",
   "metadata": {},
   "source": [
    "## Data Generation with Naive Bayes"
   ]
  },
  {
   "cell_type": "code",
   "execution_count": 35,
   "metadata": {},
   "outputs": [
    {
     "name": "stdout",
     "output_type": "stream",
     "text": [
      "(120000, 9, 9)\n",
      "(120000,)\n",
      "(120000, 81)\n"
     ]
    },
    {
     "data": {
      "image/png": "[encoded data removed]",
      "text/plain": [
       "<matplotlib.figure.Figure at 0x7efe0d694710>"
      ]
     },
     "metadata": {},
     "output_type": "display_data"
    }
   ],
   "source": [
    "f = h5py.File(\"digits.h5\")\n",
    "images = f[\"images\"].value\n",
    "labels = f[\"labels\"].value\n",
    "f.close()\n",
    "print(images.shape)\n",
    "print(labels.shape)\n",
    "# reshape the images to a feature array\n",
    "features = np.reshape(images, (120000, 81))\n",
    "print(features.shape)\n",
    "\n",
    "# pick all threes and visualize eight of them\n",
    "threesimg = images[labels == 3]\n",
    "threesfeat = features[labels == 3]\n",
    "threeslabel = labels[labels == 3]\n",
    "fig = plt.figure()\n",
    "for i in range(1,9):\n",
    "    fig.add_subplot(1, 8, i)\n",
    "    plt.imshow(threesimg[i], cmap=\"Greys_r\")\n",
    "plt.show()"
   ]
  },
  {
   "cell_type": "code",
   "execution_count": 9,
   "metadata": {
    "collapsed": true
   },
   "outputs": [],
   "source": [
    "# naive bayes from last exercise\n",
    "def fit_naive_bayes(features, labels, bincount=0):\n",
    "    unique_labels = np.unique(labels)\n",
    "    N = len(features)\n",
    "    L = bincount\n",
    "    histograms = []\n",
    "    binning = []\n",
    "    # if no bincount is given determine it according to freedman diaconis\n",
    "    if bincount == 0:\n",
    "        iqrs = stats.iqr(features, axis=0)\n",
    "        delta_x = iqrs[:] * 2.0 / (N ** (1.0/3.0))\n",
    "        delta_x[delta_x == 0] = np.max(features)\n",
    "        nr_bins = np.ceil((np.max(features, axis=0) - np.min(features, axis=0)) / delta_x)\n",
    "        L = int(np.mean(nr_bins))\n",
    "    for label in unique_labels:\n",
    "        cl = features[labels == label]\n",
    "        # adapt delta_x to bincount (either given or determined by freedman diaconis)\n",
    "        delta_x = ((np.max(cl, axis=0) - np.min(cl, axis=0)) / (L-1))\n",
    "        delta_x[delta_x == 0] = np.max(cl)\n",
    "        lower_bound = np.min(cl, axis=0)\n",
    "        binshape = np.zeros((len(features[0]), 2))\n",
    "        binshape[:, 0] = lower_bound\n",
    "        binshape[:, 1] = delta_x\n",
    "        binning.append(binshape)\n",
    "        # assign a bin nr to every feature of every instance of this class\n",
    "        bins = np.floor((cl - lower_bound)/delta_x).astype(int)\n",
    "        hist = np.zeros((len(cl[0]), (L)))\n",
    "        for i in range(len(cl[0])):\n",
    "            # for every feature fill the bins of the histogram\n",
    "            # with the probability for x in bin\n",
    "            values, counts = np.unique(bins[:, i], return_counts=True)\n",
    "            hist[i][values] = counts / (len(cl))\n",
    "        histograms.append(hist)\n",
    "    histograms = np.asarray(histograms)\n",
    "    binning = np.asarray(binning)\n",
    "    return histograms, binning"
   ]
  },
  {
   "cell_type": "code",
   "execution_count": 33,
   "metadata": {},
   "outputs": [
    {
     "data": {
      "image/png": "[encoded data removed]",
      "text/plain": [
       "<matplotlib.figure.Figure at 0x7efe085e09b0>"
      ]
     },
     "metadata": {},
     "output_type": "display_data"
    }
   ],
   "source": [
    "def sample_naive_bayes(histograms, binning):\n",
    "    ql = np.cumsum(histograms[0], axis=1)\n",
    "    # generate random ts for every pixel\n",
    "    t = np.random.rand(len(histograms[0]))\n",
    "    # for every pixel select a bin\n",
    "    smallest_l = np.argmax(ql >= np.expand_dims(t, axis=1), axis=1)\n",
    "    # determine bounds for unifor distribution\n",
    "    # lower bound = lower bound of first bin + (binwidth * (binnumber+ 1))\n",
    "    # binnumber +1 because bins start at zero\n",
    "    lower_boud = binning[0, :, 0] + binning[0, :, 1] * (smallest_l + 1)\n",
    "    # upper bound = lower bound + binwidth\n",
    "    upper_bound = lower_boud + binning[0, :, 1]\n",
    "    # sample pixels from uniform distribution\n",
    "    img = np.random.uniform(lower_boud, upper_bound)\n",
    "    # reshape flat image to a 9x9 image and return it\n",
    "    return img.reshape(9, 9)\n",
    "\n",
    "\n",
    "# fit the bayes on the threes\n",
    "hist, binning = fit_naive_bayes(threesfeat, threeslabel)\n",
    "# now generate eight new threes and show them\n",
    "fig = plt.figure()\n",
    "for i in range(1, 9):\n",
    "    img = sample_naive_bayes(hist, binning)\n",
    "    fig.add_subplot(1, 8, i)\n",
    "    plt.imshow(img, cmap=\"Greys_r\")\n",
    "plt.show()\n",
    "# with lots of imagination you might see that these are new threes"
   ]
  },
  {
   "cell_type": "markdown",
   "metadata": {},
   "source": [
    "## Data Generation with a Multi-dimensional Gaussian"
   ]
  },
  {
   "cell_type": "code",
   "execution_count": 34,
   "metadata": {},
   "outputs": [
    {
     "data": {
      "image/png": "[encoded data removed]",
      "text/plain": [
       "<matplotlib.figure.Figure at 0x7efe08332748>"
      ]
     },
     "metadata": {},
     "output_type": "display_data"
    }
   ],
   "source": [
    "def fit_gaussian(features):\n",
    "    mu = np.mean(features, axis=0)\n",
    "    covmat = np.cov(features, rowvar=False)\n",
    "    return mu, covmat\n",
    "\n",
    "# fit the gaussian on the threes\n",
    "mu, covmat = fit_gaussian(threesfeat)\n",
    "# now generate eight new threes and show them\n",
    "fig = plt.figure()\n",
    "for i in range(1, 9):\n",
    "    img = np.random.multivariate_normal(mu, covmat).reshape(9, 9)\n",
    "    fig.add_subplot(1, 8, i)\n",
    "    plt.imshow(img, cmap=\"Greys_r\")\n",
    "plt.show()"
   ]
  }
 ],
 "metadata": {
  "kernelspec": {
   "display_name": "Python 3",
   "language": "python",
   "name": "python3"
  },
  "language_info": {
   "codemirror_mode": {
    "name": "ipython",
    "version": 3
   },
   "file_extension": ".py",
   "mimetype": "text/x-python",
   "name": "python",
   "nbconvert_exporter": "python",
   "pygments_lexer": "ipython3",
   "version": "3.5.2"
  }
 },
 "nbformat": 4,
 "nbformat_minor": 2
}
