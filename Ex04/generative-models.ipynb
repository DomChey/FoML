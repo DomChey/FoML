{
 "cells": [
  {
   "cell_type": "markdown",
   "metadata": {},
   "source": [
    "# Fundamentals of Machine Learning - Exercise 4\n",
    "Dominique Cheray & Jacqueline Wagner"
   ]
  },
  {
   "cell_type": "code",
   "execution_count": 1,
   "metadata": {
    "collapsed": true
   },
   "outputs": [],
   "source": [
    "import h5py\n",
    "import matplotlib.pyplot as plt\n",
    "import numpy as np\n",
    "from scipy import stats\n",
    "import heapq\n",
    "import math"
   ]
  },
  {
   "cell_type": "markdown",
   "metadata": {},
   "source": [
    "## 1 Data Generation with Naive Bayes"
   ]
  },
  {
   "cell_type": "code",
   "execution_count": 2,
   "metadata": {},
   "outputs": [
    {
     "name": "stdout",
     "output_type": "stream",
     "text": [
      "(120000, 9, 9)\n",
      "(120000,)\n",
      "(120000, 81)\n"
     ]
    },
    {
     "data": {
      "image/png": "[encoded data removed]",
      "text/plain": [
       "<matplotlib.figure.Figure at 0x7fd5241bd978>"
      ]
     },
     "metadata": {},
     "output_type": "display_data"
    }
   ],
   "source": [
    "f = h5py.File(\"digits.h5\")\n",
    "images = f[\"images\"].value\n",
    "labels = f[\"labels\"].value\n",
    "f.close()\n",
    "print(images.shape)\n",
    "print(labels.shape)\n",
    "# reshape the images to a feature array\n",
    "features = np.reshape(images, (120000, 81))\n",
    "print(features.shape)\n",
    "\n",
    "# pick all threes and visualize eight of them\n",
    "threesimg = images[labels == 3]\n",
    "threesfeat = features[labels == 3]\n",
    "threeslabel = labels[labels == 3]\n",
    "ninesfeat = features[labels == 9]\n",
    "fig = plt.figure()\n",
    "for i in range(1,9):\n",
    "    fig.add_subplot(1, 8, i)\n",
    "    plt.imshow(threesimg[i], cmap=\"Greys_r\")\n",
    "plt.show()"
   ]
  },
  {
   "cell_type": "code",
   "execution_count": 3,
   "metadata": {
    "collapsed": true
   },
   "outputs": [],
   "source": [
    "# naive bayes from last exercise\n",
    "def fit_naive_bayes(features, labels, bincount=0):\n",
    "    unique_labels = np.unique(labels)\n",
    "    N = len(features)\n",
    "    L = bincount\n",
    "    histograms = []\n",
    "    binning = []\n",
    "    # if no bincount is given determine it according to freedman diaconis\n",
    "    if bincount == 0:\n",
    "        iqrs = stats.iqr(features, axis=0)\n",
    "        delta_x = iqrs[:] * 2.0 / (N ** (1.0/3.0))\n",
    "        delta_x[delta_x == 0] = np.max(features)\n",
    "        nr_bins = np.ceil((np.max(features, axis=0) - np.min(features, axis=0)) / delta_x)\n",
    "        L = int(np.mean(nr_bins))\n",
    "    for label in unique_labels:\n",
    "        cl = features[labels == label]\n",
    "        # adapt delta_x to bincount (either given or determined by freedman diaconis)\n",
    "        delta_x = ((np.max(cl, axis=0) - np.min(cl, axis=0)) / (L-1))\n",
    "        delta_x[delta_x == 0] = np.max(cl)\n",
    "        lower_bound = np.min(cl, axis=0)\n",
    "        binshape = np.zeros((len(features[0]), 2))\n",
    "        binshape[:, 0] = lower_bound\n",
    "        binshape[:, 1] = delta_x\n",
    "        binning.append(binshape)\n",
    "        # assign a bin nr to every feature of every instance of this class\n",
    "        bins = np.floor((cl - lower_bound)/delta_x).astype(int)\n",
    "        hist = np.zeros((len(cl[0]), (L)))\n",
    "        for i in range(len(cl[0])):\n",
    "            # for every feature fill the bins of the histogram\n",
    "            # with the probability for x in bin\n",
    "            values, counts = np.unique(bins[:, i], return_counts=True)\n",
    "            hist[i][values] = counts / (len(cl))\n",
    "        histograms.append(hist)\n",
    "    histograms = np.asarray(histograms)\n",
    "    binning = np.asarray(binning)\n",
    "    return histograms, binning"
   ]
  },
  {
   "cell_type": "code",
   "execution_count": 4,
   "metadata": {},
   "outputs": [
    {
     "data": {
      "image/png": "[encoded data removed]",
      "text/plain": [
       "<matplotlib.figure.Figure at 0x7fd4ef52c438>"
      ]
     },
     "metadata": {},
     "output_type": "display_data"
    }
   ],
   "source": [
    "def sample_naive_bayes(histograms, binning):\n",
    "    ql = np.cumsum(histograms[0], axis=1)\n",
    "    # generate random ts for every pixel\n",
    "    t = np.random.rand(len(histograms[0]))\n",
    "    # for every pixel select a bin\n",
    "    smallest_l = np.argmax(ql >= np.expand_dims(t, axis=1), axis=1)\n",
    "    # determine bounds for unifor distribution\n",
    "    # lower bound = lower bound of first bin + (binwidth * (binnumber+ 1))\n",
    "    # binnumber +1 because bins start at zero\n",
    "    lower_boud = binning[0, :, 0] + binning[0, :, 1] * (smallest_l + 1)\n",
    "    # upper bound = lower bound + binwidth\n",
    "    upper_bound = lower_boud + binning[0, :, 1]\n",
    "    # sample pixels from uniform distribution\n",
    "    img = np.random.uniform(lower_boud, upper_bound)\n",
    "    # reshape flat image to a 9x9 image and return it\n",
    "    return img.reshape(9, 9)\n",
    "\n",
    "\n",
    "# fit the bayes on the threes\n",
    "hist, binning = fit_naive_bayes(threesfeat, threeslabel)\n",
    "# now generate eight new threes and show them\n",
    "fig = plt.figure()\n",
    "for i in range(1, 9):\n",
    "    img = sample_naive_bayes(hist, binning)\n",
    "    fig.add_subplot(1, 8, i)\n",
    "    plt.imshow(img, cmap=\"Greys_r\")\n",
    "plt.show()\n",
    "# with lots of imagination you might see that these are new threes"
   ]
  },
  {
   "cell_type": "markdown",
   "metadata": {},
   "source": [
    "## 2 Data Generation and Classification with Density Trees\n",
    "### 2.1 Train Tree by Error Minimization"
   ]
  },
  {
   "cell_type": "code",
   "execution_count": 5,
   "metadata": {
    "collapsed": true
   },
   "outputs": [],
   "source": [
    "# class to build the density tree\n",
    "class Tree():\n",
    "    def __init__(self, parent, N, N_l, V_l, split_feature, split_threshold):\n",
    "        self.parent = parent\n",
    "        self.left = None\n",
    "        self.right = None\n",
    "        self.split_threshold = split_threshold\n",
    "        self.split_feature = split_feature\n",
    "        self.N = N\n",
    "        self.N_l = N_l\n",
    "        self.V_l = V_l\n",
    "        self.p_l = N_l / (N * V_l)\n",
    "        # probabilities are  needed for sampling later\n",
    "        self.probability = N_l / N\n",
    "        self.probability_left = 0\n",
    "        self.probability_right = 0\n",
    "\n",
    "\n",
    "# class for the leafs\n",
    "# when new leaf is created its best split is determined\n",
    "class Leaf():\n",
    "    def __init__(self, parent, features, N, score_fct):\n",
    "        self.parent = parent\n",
    "        self.features = features\n",
    "        self.N = N\n",
    "        self.N_l = len(features)\n",
    "        self.probability = self.N_l / N\n",
    "        # get the min and max of every feature\n",
    "        mins = np.min(features, axis=0)\n",
    "        maxs = np.max(features, axis=0)\n",
    "        # calculate 11 equally spaced thresholds per feature within min and max of that feature\n",
    "        # 11 instead of 10 beacause first will always be the min of that feature and will be skipped\n",
    "        # later\n",
    "        thresholds = np.array([np.linspace(i, j, num=11, endpoint=False) for i, j in zip(mins, maxs)])\n",
    "        # if there are zeros in mins or maxs set them to one otherwise volume cannot be calculated\n",
    "        mins[mins == 0] = 1\n",
    "        maxs[mins == 0] = 1\n",
    "        self.V_l = mins.dot(maxs)\n",
    "        self.p_l = self.N_l / (N * self.V_l)\n",
    "        # set score for best split to minus infinity\n",
    "        self.best_score = -math.inf\n",
    "        eps = 1e-16\n",
    "        # for every feature and all of its thresholds determine splits\n",
    "        for i in range(thresholds.shape[0]):\n",
    "            # skip first entry of thresholds because it will always be the min of that features\n",
    "            for j in range(1, thresholds.shape[1]):\n",
    "                left_feats = features[features[:, i] <= thresholds[i, j]]\n",
    "                right_feats = features[features[:, i] > thresholds[i, j]]\n",
    "                N_left = len(left_feats)\n",
    "                N_right = len(right_feats)\n",
    "                # if split leads to empty leaf skip it\n",
    "                if N_left < 1 or N_right < 1:\n",
    "                    continue\n",
    "                V_left = (np.min(left_feats, axis=0).dot(np.max(left_feats, axis=0)))\n",
    "                V_right = (np.min(right_feats, axis=0).dot(np.max(right_feats, axis=0)))\n",
    "                # if Volume of split to small skip it\n",
    "                if V_left < eps or V_right < eps:\n",
    "                    continue\n",
    "                p_left = N_left / (N * V_left)\n",
    "                p_right = N_right / (N * V_right)\n",
    "                # if probability density of one of the splits is to small skip it\n",
    "                if p_left < eps or p_right < eps:\n",
    "                    continue\n",
    "                # check which score function has to be used\n",
    "                if score_fct == 1:\n",
    "                    score = np.square(p_left) * V_left + np.square(p_right) * V_right - np.square(self.p_l) * self.V_l\n",
    "                else:\n",
    "                    score = (np.square(N_right * self.V_l - self.N_l * V_left)) / V_left * (self.V_l - V_left)\n",
    "                # if score of this split is better than previous splits\n",
    "                # save it\n",
    "                if score > self.best_score:\n",
    "                    self.best_score = score\n",
    "                    self.split_feature = i\n",
    "                    self.split_threshold = thresholds[i][j]\n",
    "                    self.left_feats = left_feats\n",
    "                    self.right_feats = right_feats\n",
    "\n",
    "    # function to tell heapq to sort by best_score\n",
    "    def __lt__(self, other):\n",
    "        return self.best_score > other.best_score"
   ]
  },
  {
   "cell_type": "code",
   "execution_count": 6,
   "metadata": {
    "collapsed": true
   },
   "outputs": [],
   "source": [
    "def fit_density_tree1(features, bincount=0):\n",
    "    queue = []\n",
    "    Tau = 7\n",
    "    N = len(features)\n",
    "    if bincount == 0:\n",
    "        # calculate # of bins needs to be an int\n",
    "        L = (int)(Tau * (N ** (1.0/3.0)))\n",
    "    else:\n",
    "        # use given bincount\n",
    "        L = bincount\n",
    "    # first leaf are just all feature\n",
    "    root_leaf = Leaf(None, features, N, 1)\n",
    "    heapq.heappush(queue, root_leaf)\n",
    "    # from 1 to  number of leafs - 1 (as given in the lecture)\n",
    "    for t in range(1, L):\n",
    "        # get leaf with best score\n",
    "        next_split = heapq.heappop(queue)\n",
    "        # make a treenode out of the leaf\n",
    "        tree_node = Tree(next_split.parent, N, next_split.N_l, next_split.V_l,\n",
    "                         next_split.split_feature, next_split.split_threshold)\n",
    "        # first split has no parent\n",
    "        if next_split.parent:\n",
    "            if next_split.parent.left == next_split:\n",
    "                next_split.parent.left = tree_node\n",
    "            else:\n",
    "                next_split.parent.right = tree_node\n",
    "        # now take the left and right split of that leaf and hang them on the tree node\n",
    "        left = Leaf(tree_node, next_split.left_feats, N, 1)\n",
    "        right = Leaf(tree_node, next_split.right_feats, N, 1)\n",
    "        tree_node.left = left\n",
    "        tree_node.right = right\n",
    "        # update probabilities of tree node\n",
    "        tree_node.probability_left = left.probability\n",
    "        tree_node.probability_right = right.probability\n",
    "        # and push them on the queue\n",
    "        heapq.heappush(queue, left)\n",
    "        heapq.heappush(queue, right)\n",
    "\n",
    "    root = tree_node\n",
    "    while root.parent:\n",
    "        root = root.parent\n",
    "\n",
    "    return root\n",
    "\n",
    "\n",
    "tree1 = fit_density_tree1(threesfeat)"
   ]
  },
  {
   "cell_type": "code",
   "execution_count": 19,
   "metadata": {},
   "outputs": [
    {
     "data": {
      "image/png": "[encoded data removed]",
      "text/plain": [
       "<matplotlib.figure.Figure at 0x7fd4e9f650f0>"
      ]
     },
     "metadata": {},
     "output_type": "display_data"
    }
   ],
   "source": [
    "def sample_density_tree(density_tree):\n",
    "    t = np.random.uniform(0, 1)\n",
    "    node = density_tree\n",
    "    # while node is not a leaf descend \n",
    "    while isinstance(node, Tree):\n",
    "        if t <= node.probability_left:\n",
    "            node = node.left\n",
    "        else:\n",
    "            t = t - node.probability_left\n",
    "            node = node.right\n",
    "    img = np.random.uniform(np.min(node.features, axis=0), np.max(node.features, axis=0))\n",
    "    return img.reshape(9, 9)\n",
    "\n",
    "\n",
    "fig = plt.figure()\n",
    "for i in range(1, 9):\n",
    "    img = sample_density_tree(tree1)\n",
    "    fig.add_subplot(1, 8, i)\n",
    "    plt.imshow(img, cmap=\"Greys_r\")\n",
    "plt.show()"
   ]
  },
  {
   "cell_type": "markdown",
   "metadata": {},
   "source": [
    "### 2.2 Train Tree by Maximizing Non-Uniformity"
   ]
  },
  {
   "cell_type": "code",
   "execution_count": 8,
   "metadata": {},
   "outputs": [],
   "source": [
    "# the same as fit density_tree2 just with the other score function\n",
    "# not elegant, but it was faster than to refactor the Tree and the Leaf\n",
    "# to be beautiful objects with convenient methods\n",
    "def fit_density_tree2(features, bincount=0):\n",
    "    queue = []\n",
    "    Tau = 7\n",
    "    N = len(features)\n",
    "    if bincount == 0:\n",
    "        # calculate # of bins needs to be an int\n",
    "        L = (int)(Tau * (N ** (1.0/3.0)))\n",
    "    else:\n",
    "        # use given bincount\n",
    "        L = bincount\n",
    "    # first leaf are just all feature\n",
    "    root_leaf = Leaf(None, features, N, 2)\n",
    "    heapq.heappush(queue, root_leaf)\n",
    "    # from 1 to  number of leafs - 1 (as given in the lecture)\n",
    "    for t in range(1, L):\n",
    "        # get leaf with best score\n",
    "        next_split = heapq.heappop(queue)\n",
    "        # make a treenode out of the leaf\n",
    "        tree_node = Tree(next_split.parent, N, next_split.N_l, next_split.V_l,\n",
    "                         next_split.split_feature, next_split.split_threshold)\n",
    "        # first split has no parent\n",
    "        if next_split.parent:\n",
    "            if next_split.parent.left == next_split:\n",
    "                next_split.parent.left = tree_node\n",
    "            else:\n",
    "                next_split.parent.right = tree_node\n",
    "        # now take the left and right split of that leaf and hang them on the tree node\n",
    "        left = Leaf(tree_node, next_split.left_feats, N, 2)\n",
    "        right = Leaf(tree_node, next_split.right_feats, N, 2)\n",
    "        tree_node.left = left\n",
    "        tree_node.right = right\n",
    "        # update probabilities of tree node\n",
    "        tree_node.probability_left = left.probability\n",
    "        tree_node.probability_right = right.probability\n",
    "        # and push them on the queue\n",
    "        heapq.heappush(queue, left)\n",
    "        heapq.heappush(queue, right)\n",
    "\n",
    "    root = tree_node\n",
    "    while root.parent:\n",
    "        root = root.parent\n",
    "\n",
    "    return root\n",
    "\n",
    "tree2 = fit_density_tree2(threesfeat)"
   ]
  },
  {
   "cell_type": "code",
   "execution_count": 21,
   "metadata": {},
   "outputs": [
    {
     "data": {
      "image/png": "[encoded data removed]",
      "text/plain": [
       "<matplotlib.figure.Figure at 0x7fd4ea2932e8>"
      ]
     },
     "metadata": {},
     "output_type": "display_data"
    }
   ],
   "source": [
    "fig = plt.figure()\n",
    "for i in range(1, 9):\n",
    "    img = sample_density_tree(tree2)\n",
    "    fig.add_subplot(1, 8, i)\n",
    "    plt.imshow(img, cmap=\"Greys_r\")\n",
    "plt.show()"
   ]
  },
  {
   "cell_type": "markdown",
   "metadata": {},
   "source": [
    "### 2.3 Tree-Based Classification"
   ]
  },
  {
   "cell_type": "code",
   "execution_count": 15,
   "metadata": {},
   "outputs": [],
   "source": [
    "def predict_density_trees(test_features, tree_for_3, tree_for_9):\n",
    "    probabilities = np.zeros((2, len(test_features)))\n",
    "    # for every sample \n",
    "    for i in range(test_features.shape[0]):\n",
    "        # checkt probability for three\n",
    "        node = tree_for_3\n",
    "        # while node is not a leaf descend further into tree\n",
    "        while isinstance(node, Tree):\n",
    "            if test_features[i][node.split_feature] < node.split_threshold:\n",
    "                node = node.left\n",
    "            else:\n",
    "                node = node.right\n",
    "        # finally get probability for sample in this class\n",
    "        probabilities[0][i] = np.log(node.p_l)\n",
    "        # now check for nine\n",
    "        node = tree_for_9\n",
    "        # while node is not a leaf:\n",
    "        while isinstance(node, Tree):\n",
    "            if test_features[i][node.split_feature] < node.split_threshold:\n",
    "                node = node.left\n",
    "            else:\n",
    "                node = node.right\n",
    "        probabilities[1][i] = np.log(node.p_l)\n",
    "    predicted_labels = np.argmax(probabilities, axis=0)\n",
    "    predicted_labels[predicted_labels == 0] = 3\n",
    "    predicted_labels[predicted_labels == 1] = 9\n",
    "    return predicted_labels\n",
    "\n",
    "# train the trees by Error Minimization\n",
    "three_tree1 = fit_density_tree1(threesfeat)\n",
    "nine_tree1 = fit_density_tree1(ninesfeat)\n",
    "\n",
    "# train the trees by Maximizin Non-Uniformity\n",
    "three_tree2 = fit_density_tree2(threesfeat)\n",
    "nine_tree2 = fit_density_tree2(ninesfeat)"
   ]
  },
  {
   "cell_type": "code",
   "execution_count": 16,
   "metadata": {
    "collapsed": true
   },
   "outputs": [],
   "source": [
    "# useful function to compute and print out the confusion matrix\n",
    "def confusion_matrix(predicted, true, print_result=True):\n",
    "    # all possible classes in training and testing data\n",
    "    classes = np.unique(np.concatenate([true, predicted]))\n",
    "     \n",
    "    # for each matrix entry in row c_t, column c_p, count\n",
    "    # for how many examples is the true label c_t and the predicted label c_p.\n",
    "    matrix = [[np.sum((true == c_t) * (predicted == c_p)) / np.sum(true == c_t) \n",
    "                                     for c_t in classes] for c_p in classes]\n",
    "    if print_result:\n",
    "        print('Class | ' +' |'.join(['%5d'%(c) for c in classes])) \n",
    "        for c, row in zip(classes, matrix):\n",
    "            print('------+-' + '+'.join(['------' for c in classes]))\n",
    "            print('%5d | '%(c) + '|'.join(['%5.1f%%'%(100.*r) for r in row]))\n",
    "        print()\n",
    "        \n",
    "    return matrix "
   ]
  },
  {
   "cell_type": "code",
   "execution_count": 17,
   "metadata": {},
   "outputs": [
    {
     "name": "stdout",
     "output_type": "stream",
     "text": [
      "(100000, 9, 9)\n",
      "(100000,)\n",
      "(100000, 81)\n",
      "(20190, 81)\n",
      "Confusion matrix for trees using Error Minimization\n",
      "Class |     3 |    9\n",
      "------+-------+------\n",
      "    3 |  72.8%| 57.5%\n",
      "------+-------+------\n",
      "    9 |  27.2%| 42.5%\n",
      "\n",
      "Confusion matrix for trees using MAximization of Non-Uniformity\n",
      "Class |     3 |    9\n",
      "------+-------+------\n",
      "    3 |  52.1%| 29.3%\n",
      "------+-------+------\n",
      "    9 |  47.9%| 70.7%\n",
      "\n"
     ]
    }
   ],
   "source": [
    "# load the testset and filter it for threes and nines\n",
    "f = h5py.File(\"digits_test.h5\")\n",
    "test_images = f[\"images\"].value\n",
    "test_labels = f[\"labels\"].value\n",
    "f.close()\n",
    "print(test_images.shape)\n",
    "print(test_labels.shape)\n",
    "# reshape the images to a feature array\n",
    "test_features = np.reshape(test_images, (100000, 81))\n",
    "print(test_features.shape)\n",
    "filter_mask = (test_labels == 3) | (test_labels == 9)\n",
    "test_features = test_features[filter_mask]\n",
    "test_labels = test_labels[filter_mask]\n",
    "print(test_features.shape)\n",
    "\n",
    "# use both tree versions for prediction\n",
    "tree_prediction1 = predict_density_trees(test_features, three_tree1, nine_tree1)\n",
    "tree_prediction2 = predict_density_trees(test_features, three_tree2, nine_tree2)\n",
    "print('Confusion matrix for trees using Error Minimization')\n",
    "conf_mat1 = confusion_matrix(tree_prediction1, test_labels)\n",
    "print('Confusion matrix for trees using Maximization of Non-Uniformity')\n",
    "conf_mat2 = confusion_matrix(tree_prediction2, test_labels)"
   ]
  },
  {
   "cell_type": "markdown",
   "metadata": {},
   "source": [
    "In our case the density tree does not work better. He makes more errors in classification than our naive Bayes implementation did. And the images generated by naive Bayes are better. Most of the images generated by the trees just look like random noise. If one tries often enough sometimes at least one looks okay."
   ]
  },
  {
   "cell_type": "markdown",
   "metadata": {},
   "source": [
    "## 3 Data Generation with a Multi-dimensional Gaussian"
   ]
  },
  {
   "cell_type": "code",
   "execution_count": 13,
   "metadata": {},
   "outputs": [
    {
     "data": {
      "image/png": "[encoded data removed]",
      "text/plain": [
       "<matplotlib.figure.Figure at 0x7fd4ea232160>"
      ]
     },
     "metadata": {},
     "output_type": "display_data"
    }
   ],
   "source": [
    "def fit_gaussian(features):\n",
    "    mu = np.mean(features, axis=0)\n",
    "    covmat = np.cov(features, rowvar=False)\n",
    "    return mu, covmat\n",
    "\n",
    "# fit the gaussian on the threes\n",
    "mu, covmat = fit_gaussian(threesfeat)\n",
    "# now generate eight new threes and show them\n",
    "fig = plt.figure()\n",
    "for i in range(1, 9):\n",
    "    img = np.random.multivariate_normal(mu, covmat).reshape(9, 9)\n",
    "    fig.add_subplot(1, 8, i)\n",
    "    plt.imshow(img, cmap=\"Greys_r\")\n",
    "plt.show()"
   ]
  }
 ],
 "metadata": {
  "kernelspec": {
   "display_name": "Python 3",
   "language": "python",
   "name": "python3"
  },
  "language_info": {
   "codemirror_mode": {
    "name": "ipython",
    "version": 3
   },
   "file_extension": ".py",
   "mimetype": "text/x-python",
   "name": "python",
   "nbconvert_exporter": "python",
   "pygments_lexer": "ipython3",
   "version": "3.5.2"
  }
 },
 "nbformat": 4,
 "nbformat_minor": 2
}
