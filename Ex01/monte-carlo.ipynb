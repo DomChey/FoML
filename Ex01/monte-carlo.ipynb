{
 "cells": [
  {
   "cell_type": "markdown",
   "metadata": {},
   "source": [
    "## 1 Monte-Carlo Simulation\n",
    "Submission by Dominique Cheray & Jacqueline Wagner"
   ]
  },
  {
   "cell_type": "code",
   "execution_count": 1,
   "metadata": {
    "collapsed": true
   },
   "outputs": [],
   "source": [
    "import random\n",
    "import math\n",
    "import numpy as np\n",
    "import matplotlib.pyplot as plt"
   ]
  },
  {
   "cell_type": "markdown",
   "metadata": {},
   "source": [
    "### 1.1 Data Creation and Visualization"
   ]
  },
  {
   "cell_type": "markdown",
   "metadata": {},
   "source": [
    "Transformation formula for $p(Y=0)=p(Y=1)= 1/2$:\n",
    "$$\n",
    "Y = \\begin{cases} 0 &if  x  <= 0.5 \\\\ 1 &else \\end{cases} \n",
    "$$\n",
    "Transformation formula for $p(X|Y=0) = 2 - 2x$:\n",
    "$$\n",
    "X = 1 - \\sqrt{1-x}\n",
    "$$\n",
    "Tranformation formula for $p(X|Y=1) = 2x$:\n",
    "$$\n",
    "X = \\sqrt{x}\n",
    "$$"
   ]
  },
  {
   "cell_type": "code",
   "execution_count": 2,
   "metadata": {
    "collapsed": true
   },
   "outputs": [],
   "source": [
    "def create_data(N):\n",
    "    features = []\n",
    "    labels = []\n",
    "    random.seed()\n",
    "    for i in range(0, N):\n",
    "        rawY = random.random()\n",
    "        rawX = random.random()\n",
    "        if rawY <= 0.5:\n",
    "            Y = 0\n",
    "            X = 1 - math.sqrt(1-rawX)\n",
    "        else:\n",
    "            Y = 1\n",
    "            X = math.sqrt(rawX)\n",
    "        features.append(X)\n",
    "        labels.append(Y)\n",
    "    return features, labels"
   ]
  },
  {
   "cell_type": "code",
   "execution_count": 3,
   "metadata": {},
   "outputs": [
    {
     "data": {
      "image/png": "[encoded data removed]",
      "text/plain": [
       "<matplotlib.figure.Figure at 0x7fb9bfe1b5f8>"
      ]
     },
     "metadata": {},
     "output_type": "display_data"
    },
    {
     "data": {
      "image/png": "[encoded data removed]",
      "text/plain": [
       "<matplotlib.figure.Figure at 0x7fb9bdaadf98>"
      ]
     },
     "metadata": {},
     "output_type": "display_data"
    },
    {
     "data": {
      "image/png": "[encoded data removed]",
      "text/plain": [
       "<matplotlib.figure.Figure at 0x7fb9bfe1b668>"
      ]
     },
     "metadata": {},
     "output_type": "display_data"
    }
   ],
   "source": [
    "features, labels = create_data(10000)\n",
    "plt.hist(labels)\n",
    "plt.title('P(Y)')\n",
    "plt.show()\n",
    "\n",
    "xOnes = []\n",
    "xZeros = []\n",
    "for i in range(0, len(features)):\n",
    "    if labels[i] == 0:\n",
    "        xZeros.append(features[i])\n",
    "    else:\n",
    "        xOnes.append(features[i])\n",
    "plt.hist(xZeros)\n",
    "plt.title('P(X|Y=0)')\n",
    "plt.show()\n",
    "\n",
    "plt.hist(xOnes)\n",
    "plt.title('P(X|Y=1)')\n",
    "plt.show()"
   ]
  },
  {
   "cell_type": "markdown",
   "metadata": {},
   "source": [
    "### 1.2 Classification by Thresholding"
   ]
  },
  {
   "cell_type": "code",
   "execution_count": 4,
   "metadata": {
    "collapsed": true
   },
   "outputs": [],
   "source": [
    "# helper method to calculate classification error\n",
    "def calculate_error(predicted_labels, true_labels):\n",
    "    error = 0\n",
    "    for i in range(0, len(predicted_labels)):\n",
    "        if predicted_labels[i] != true_labels[i]:\n",
    "            error = error + 1\n",
    "    error = error / len(predicted_labels)\n",
    "    return error"
   ]
  },
  {
   "cell_type": "code",
   "execution_count": 5,
   "metadata": {
    "collapsed": true
   },
   "outputs": [],
   "source": [
    "# classification rule A\n",
    "def rule_a(t, features):\n",
    "    predictedLabels = []\n",
    "    for i in features:\n",
    "        if i <= t:\n",
    "            predictedLabels.append(0)\n",
    "        else:\n",
    "            predictedLabels.append(1)\n",
    "    return predictedLabels\n",
    "\n",
    "# classification rule B\n",
    "def rule_b(t, features):\n",
    "    predictedLabels = []\n",
    "    for i in features:\n",
    "        if i <= t:\n",
    "            predictedLabels.append(1)\n",
    "        else:\n",
    "            predictedLabels.append(0)\n",
    "    return predictedLabels\n",
    "\n",
    "# calculate the error for rule A with a given t\n",
    "def calc_error_rule_a(t):\n",
    "    return 0.25 + (t - 0.5)**2\n",
    "\n",
    "# calculate the error for rule B with a given t\n",
    "def calc_error_rule_b(t):\n",
    "    return 0.75 - (t - 0.5)**2\n",
    "\n",
    "# test if the classification rule A performs as predicted with given t and testsetsize\n",
    "# test is performed 10 times and mean and standard deviation of the error are printed\n",
    "def test_classification_rule_a(t, testset_size):\n",
    "    errors = []\n",
    "    for i in range(10):\n",
    "        # for eacht of the 10 repetitions create a testset\n",
    "        features, labels = create_data(testset_size)\n",
    "        # classify the testset according to rule A\n",
    "        predicted_labels = rule_a(t, features)\n",
    "        # calculate the classification error for this repetition and put it in the array for all errors\n",
    "        errors.append(calculate_error(predicted_labels, labels))\n",
    "    error_predicted = calc_error_rule_a(t)\n",
    "    mean_error = np.mean(errors)\n",
    "    std_error = np.std(errors)\n",
    "    print('t: ' + str(t) + ' N: ' + str(testset_size) + ' Error predicted: ' + str(error_predicted) + ' Mean error: ' +\n",
    "          str(mean_error) + ' Standard deviation of error: ' + str(std_error))\n",
    "\n",
    "# test if the classification rule B performs as predicted with given t and testsetsize\n",
    "# test is performed 10 times and mean and standard deviation of the error are printed\n",
    "def test_classification_rule_b(t, testset_size):\n",
    "    errors = []\n",
    "    for i in range(0, 10):\n",
    "        # for each of the 10 repetitions create a testset\n",
    "        features, labels = create_data(testset_size)\n",
    "        # classifiy the testset according to rule B\n",
    "        predicted_labels = rule_b(t, features)\n",
    "        # calculate the classification error for this repetition and put it in the array for all errors\n",
    "        errors.append(calculate_error(predicted_labels, labels))\n",
    "    error_predicted = calc_error_rule_b(t)\n",
    "    mean_error = np.mean(errors)\n",
    "    std_error = np.std(errors)\n",
    "    print('t: ' + str(t) + ' N: ' + str(testset_size) + ' Error predicted: ' + str(error_predicted) + ' Mean error: ' +\n",
    "          str(mean_error) + ' Standard deviation: ' + str(std_error))"
   ]
  },
  {
   "cell_type": "code",
   "execution_count": 6,
   "metadata": {},
   "outputs": [
    {
     "name": "stdout",
     "output_type": "stream",
     "text": [
      "Rule A:\n",
      "t: 0.2 N: 10 Error predicted: 0.33999999999999997 Mean error: 0.38 Standard deviation of error: 0.166132477258\n",
      "t: 0.2 N: 100 Error predicted: 0.33999999999999997 Mean error: 0.321 Standard deviation of error: 0.0559374650838\n",
      "t: 0.2 N: 1000 Error predicted: 0.33999999999999997 Mean error: 0.3398 Standard deviation of error: 0.014749915254\n",
      "t: 0.2 N: 10000 Error predicted: 0.33999999999999997 Mean error: 0.34075 Standard deviation of error: 0.00305982025616\n",
      "\n",
      "t: 0.5 N: 10 Error predicted: 0.25 Mean error: 0.21 Standard deviation of error: 0.137477270849\n",
      "t: 0.5 N: 100 Error predicted: 0.25 Mean error: 0.262 Standard deviation of error: 0.033406586177\n",
      "t: 0.5 N: 1000 Error predicted: 0.25 Mean error: 0.2505 Standard deviation of error: 0.0116038786619\n",
      "t: 0.5 N: 10000 Error predicted: 0.25 Mean error: 0.24871 Standard deviation of error: 0.00424816430944\n",
      "\n",
      "t: 0.6 N: 10 Error predicted: 0.26 Mean error: 0.27 Standard deviation of error: 0.09\n",
      "t: 0.6 N: 100 Error predicted: 0.26 Mean error: 0.271 Standard deviation of error: 0.0465725240888\n",
      "t: 0.6 N: 1000 Error predicted: 0.26 Mean error: 0.2661 Standard deviation of error: 0.0109767937031\n",
      "t: 0.6 N: 10000 Error predicted: 0.26 Mean error: 0.2611 Standard deviation of error: 0.00351539471468\n",
      "\n",
      "\n",
      "Rule B:\n",
      "t: 0.2 N: 10 Error predicted: 0.66 Mean error: 0.66 Standard deviation: 0.142828568571\n",
      "t: 0.2 N: 100 Error predicted: 0.66 Mean error: 0.669 Standard deviation: 0.0498898787331\n",
      "t: 0.2 N: 1000 Error predicted: 0.66 Mean error: 0.6532 Standard deviation: 0.018120706388\n",
      "t: 0.2 N: 10000 Error predicted: 0.66 Mean error: 0.66039 Standard deviation: 0.00494801980594\n",
      "\n",
      "t: 0.5 N: 10 Error predicted: 0.75 Mean error: 0.69 Standard deviation: 0.17\n",
      "t: 0.5 N: 100 Error predicted: 0.75 Mean error: 0.763 Standard deviation: 0.031\n",
      "t: 0.5 N: 1000 Error predicted: 0.75 Mean error: 0.749 Standard deviation: 0.00850881895447\n",
      "t: 0.5 N: 10000 Error predicted: 0.75 Mean error: 0.74843 Standard deviation: 0.00334067358477\n",
      "\n",
      "t: 0.6 N: 10 Error predicted: 0.74 Mean error: 0.76 Standard deviation: 0.18\n",
      "t: 0.6 N: 100 Error predicted: 0.74 Mean error: 0.763 Standard deviation: 0.0355105618091\n",
      "t: 0.6 N: 1000 Error predicted: 0.74 Mean error: 0.7409 Standard deviation: 0.0102610915599\n",
      "t: 0.6 N: 10000 Error predicted: 0.74 Mean error: 0.74088 Standard deviation: 0.00525258031828\n"
     ]
    }
   ],
   "source": [
    "print('Rule A:')\n",
    "test_classification_rule_a(0.2, 10)\n",
    "test_classification_rule_a(0.2, 100)\n",
    "test_classification_rule_a(0.2, 1000)\n",
    "test_classification_rule_a(0.2, 10000)\n",
    "print()\n",
    "test_classification_rule_a(0.5, 10)\n",
    "test_classification_rule_a(0.5, 100)\n",
    "test_classification_rule_a(0.5, 1000)\n",
    "test_classification_rule_a(0.5, 10000)\n",
    "print()\n",
    "test_classification_rule_a(0.6, 10)\n",
    "test_classification_rule_a(0.6, 100)\n",
    "test_classification_rule_a(0.6, 1000)\n",
    "test_classification_rule_a(0.6, 10000)\n",
    "print()\n",
    "print()\n",
    "print('Rule B:')\n",
    "test_classification_rule_b(0.2, 10)\n",
    "test_classification_rule_b(0.2, 100)\n",
    "test_classification_rule_b(0.2, 1000)\n",
    "test_classification_rule_b(0.2, 10000)\n",
    "print()\n",
    "test_classification_rule_b(0.5, 10)\n",
    "test_classification_rule_b(0.5, 100)\n",
    "test_classification_rule_b(0.5, 1000)\n",
    "test_classification_rule_b(0.5, 10000)\n",
    "print()\n",
    "test_classification_rule_b(0.6, 10)\n",
    "test_classification_rule_b(0.6, 100)\n",
    "test_classification_rule_b(0.6, 1000)\n",
    "test_classification_rule_b(0.6, 10000)"
   ]
  },
  {
   "cell_type": "markdown",
   "metadata": {},
   "source": [
    "The standard deviation of the error decreases logarithmically with increasing N."
   ]
  },
  {
   "cell_type": "markdown",
   "metadata": {},
   "source": [
    "### 1.3 Nearest Neighbor Classification"
   ]
  },
  {
   "cell_type": "code",
   "execution_count": 7,
   "metadata": {
    "collapsed": true
   },
   "outputs": [],
   "source": [
    "# create a training set with one instance of each of the two classes\n",
    "def create_nn_training_data():\n",
    "    # create a training set with two instances\n",
    "    nn_features, nn_labels = create_data(2)\n",
    "    # make sure there is one instance of each class\n",
    "    # if not create a new testset with two instances\n",
    "    # repeat this until you have one instance of each of the two classes\n",
    "    while nn_labels[0] == nn_labels[1]:\n",
    "        nn_features, nn_labels = create_data(2)\n",
    "    return nn_features, nn_labels\n",
    "\n",
    "# NN classifier: given a trainingset with two instances and the corresponding annotations\n",
    "# and a test set predict the classes of the testset instances\n",
    "def nn_classifier(training_features, training_labels, test_features):\n",
    "    predicted_labels = []\n",
    "    for i in range(0, len(test_features)):\n",
    "        #calculate the distances of the test instance to the trainig instances\n",
    "        distZero = abs(training_features[0] - test_features[i])\n",
    "        distOne = abs(training_features[1] - test_features[i])\n",
    "        # class of the test instance is the class of the nearest trainig instance\n",
    "        if distZero <= distOne:\n",
    "            predicted_labels.append(training_labels[0])\n",
    "        else:\n",
    "            predicted_labels.append(training_labels[1])\n",
    "    return predicted_labels\n",
    "\n",
    "# Use the NN classifier from above 100 times and report mean error of classifier\n",
    "def classify():\n",
    "    errors = []\n",
    "    for i in range(0, 100):\n",
    "        # for each fo the 100 repetitions create the trainingset with one instance of each of the two classes\n",
    "        training_features, training_labels = create_nn_training_data()\n",
    "        # create a sufficiently large testset\n",
    "        test_features, test_labels = create_data(100000)\n",
    "        # predict the classes of the training instances\n",
    "        predicted_labels = nn_classifier(training_features, training_labels, test_features)\n",
    "        # calculate the classification error of this repetition and put it in the array for all errors\n",
    "        errors.append(calculate_error(predicted_labels, test_labels))\n",
    "    print('Mean error: ' + str(np.mean(errors)))"
   ]
  },
  {
   "cell_type": "code",
   "execution_count": 10,
   "metadata": {},
   "outputs": [
    {
     "name": "stdout",
     "output_type": "stream",
     "text": [
      "Mean error: 0.356215\n"
     ]
    }
   ],
   "source": [
    "classify()"
   ]
  }
 ],
 "metadata": {
  "kernelspec": {
   "display_name": "Python 3",
   "language": "python",
   "name": "python3"
  },
  "language_info": {
   "codemirror_mode": {
    "name": "ipython",
    "version": 3
   },
   "file_extension": ".py",
   "mimetype": "text/x-python",
   "name": "python",
   "nbconvert_exporter": "python",
   "pygments_lexer": "ipython3",
   "version": "3.5.2"
  }
 },
 "nbformat": 4,
 "nbformat_minor": 2
}
