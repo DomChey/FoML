{
 "cells": [
  {
   "cell_type": "markdown",
   "metadata": {},
   "source": [
    "# Advanced Machine Learning - Exercise 6\n",
    "Dominique Cheray & Manuel Krämer"
   ]
  },
  {
   "cell_type": "code",
   "execution_count": 1,
   "metadata": {
    "collapsed": true
   },
   "outputs": [],
   "source": [
    "import numpy as np"
   ]
  },
  {
   "cell_type": "markdown",
   "metadata": {},
   "source": [
    "## 2 Boy Problem\n",
    "### 2.2 Numerical Evaluation"
   ]
  },
  {
   "cell_type": "code",
   "execution_count": 2,
   "metadata": {
    "collapsed": true
   },
   "outputs": [],
   "source": [
    "# sample the pairs of children\n",
    "N = 10000000\n",
    "children = []\n",
    "\n",
    "for i in range(N):\n",
    "    sex = np.random.randint(0, 2, (1, 2)) # 0 - male, 1 - female\n",
    "    day_of_birth = np.random.randint(0, 7, (1, 2)) # O - Monday .. 6 - Sunday\n",
    "    date_of_birth = np.random.randint(0, 365, (1, 2)) # 0 - 1.1.  ... 364 - 31.12.\n",
    "    children.append(np.array([sex[0], day_of_birth[0], date_of_birth[0]]))"
   ]
  },
  {
   "cell_type": "code",
   "execution_count": 3,
   "metadata": {
    "collapsed": true
   },
   "outputs": [],
   "source": [
    "# create the subsets\n",
    "\n",
    "# 1. no additional information so subset is all pairs of children\n",
    "set_1 = children\n",
    "# 2. at least one boy\n",
    "set_2 = []\n",
    "# 3. at least one boy and he is the first born\n",
    "set_3 = []\n",
    "# 4. at least one boy and born on a sunday\n",
    "set_4 = []\n",
    "# 5. at least one boy and born today (today is the 184th day of the year)\n",
    "set_5 = []\n",
    "for pair in children:\n",
    "    if pair[0][0] == 0 or pair[0][1] == 0:\n",
    "        set_2.append(pair)\n",
    "    if pair[0][0] == 0:\n",
    "        set_3.append(pair)\n",
    "    if pair[0][0] == 0 and pair[1][0] == 6 or pair[0][1] == 0 and pair[1][1] == 6:\n",
    "        set_4.append(pair)\n",
    "    if pair[0][0] == 0 and pair[2][0] == 183 or pair[0][1] == 0 and pair[2][1] == 183:\n",
    "        set_5.append(pair)"
   ]
  },
  {
   "cell_type": "code",
   "execution_count": 4,
   "metadata": {
    "collapsed": true
   },
   "outputs": [],
   "source": [
    "# now count events of (boy, boy) in every subset\n",
    "bb_1 = 0\n",
    "for pair in set_1:\n",
    "    if pair[0][0] == 0 and pair[0][1] == 0:\n",
    "        bb_1 = bb_1 + 1\n",
    "bb_2 = 0\n",
    "for pair in set_2:\n",
    "    if pair[0][0] == 0 and pair[0][1] == 0:\n",
    "        bb_2 = bb_2 + 1\n",
    "bb_3 = 0\n",
    "for pair in set_3:\n",
    "    if pair[0][0] == 0 and pair[0][1] == 0:\n",
    "        bb_3 = bb_3 + 1\n",
    "bb_4 = 0\n",
    "for pair in set_4:\n",
    "    if pair[0][0] == 0 and pair[0][1] == 0:\n",
    "        bb_4 = bb_4 + 1\n",
    "bb_5 = 0\n",
    "for pair in set_5:\n",
    "    if pair[0][0] == 0 and pair[0][1] == 0:\n",
    "        bb_5 = bb_5 + 1"
   ]
  },
  {
   "cell_type": "code",
   "execution_count": 5,
   "metadata": {
    "collapsed": true
   },
   "outputs": [],
   "source": [
    "# and finally caculate rate of (boy, boy) for the subsets\n",
    "bb_rate1 = bb_1 / len(set_1)\n",
    "bb_rate2 = bb_2 / len(set_2)\n",
    "bb_rate3 = bb_3 / len(set_3)\n",
    "bb_rate4 = bb_4 / len(set_4)\n",
    "bb_rate5 = bb_5 / len(set_5)"
   ]
  },
  {
   "cell_type": "code",
   "execution_count": 6,
   "metadata": {},
   "outputs": [
    {
     "name": "stdout",
     "output_type": "stream",
     "text": [
      "Rate (boy, boy) given no additional information: 0.25\n",
      "Rate (boy, boy), given at least one child is a boy: 0.33\n",
      "Rate (boy, boy), given at least one boy and he is the first born: 0.50\n",
      "Rate (boy, boy), given at least one boy and he is born on a sunday: 0.48\n",
      "Rate (boy, boy), given at least one boy and his birthday is today: 0.50\n"
     ]
    }
   ],
   "source": [
    "print(\"Rate (boy, boy) given no additional information: {:.2f}\".format(bb_rate1))\n",
    "print(\"Rate (boy, boy), given at least one child is a boy: {:.2f}\".format(bb_rate2))\n",
    "print(\"Rate (boy, boy), given at least one boy and he is the first born: {:.2f}\".format(bb_rate3))\n",
    "print(\"Rate (boy, boy), given at least one boy and he is born on a sunday: {:.2f}\".format(bb_rate4))\n",
    "print(\"Rate (boy, boy), given at least one boy and his birthday is today: {:.2f}\".format(bb_rate5))"
   ]
  },
  {
   "cell_type": "markdown",
   "metadata": {},
   "source": [
    "For the cases 1 to 4 the rates are equal to the rates we caculated in section 2.1. For case 5 the result given by the numerical evaluation is slightly higher 0.5 instead of 0.4996573 but this difference is negligible small."
   ]
  }
 ],
 "metadata": {
  "kernelspec": {
   "display_name": "Python 3",
   "language": "python",
   "name": "python3"
  },
  "language_info": {
   "codemirror_mode": {
    "name": "ipython",
    "version": 3
   },
   "file_extension": ".py",
   "mimetype": "text/x-python",
   "name": "python",
   "nbconvert_exporter": "python",
   "pygments_lexer": "ipython3",
   "version": "3.5.2"
  }
 },
 "nbformat": 4,
 "nbformat_minor": 2
}
