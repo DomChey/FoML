{
 "cells": [
  {
   "cell_type": "code",
   "execution_count": 1,
   "metadata": {},
   "outputs": [
    {
     "name": "stderr",
     "output_type": "stream",
     "text": [
      "/usr/local/lib/python3.5/dist-packages/ipykernel_launcher.py:122: DeprecationWarning: `imread` is deprecated!\n",
      "`imread` is deprecated in SciPy 1.0.0, and will be removed in 1.2.0.\n",
      "Use ``imageio.imread`` instead.\n"
     ]
    },
    {
     "name": "stdout",
     "output_type": "stream",
     "text": [
      "training...\n",
      "building input kernel matrix\n",
      "sparsity: 1.982\n",
      "solving sparse system\n",
      "done computing alpha\n",
      "done training\n",
      "predicting...\n",
      "done predicting\n",
      "Train and predict took 5.530 seconds.\n",
      "(338, 250)\n"
     ]
    },
    {
     "name": "stderr",
     "output_type": "stream",
     "text": [
      "/usr/local/lib/python3.5/dist-packages/ipykernel_launcher.py:151: DeprecationWarning: `imsave` is deprecated!\n",
      "`imsave` is deprecated in SciPy 1.0.0, and will be removed in 1.2.0.\n",
      "Use ``imageio.imwrite`` instead.\n"
     ]
    },
    {
     "ename": "SystemExit",
     "evalue": "0",
     "output_type": "error",
     "traceback": [
      "An exception has occurred, use %tb to see the full traceback.\n",
      "\u001b[0;31mSystemExit\u001b[0m\u001b[0;31m:\u001b[0m 0\n"
     ]
    },
    {
     "name": "stderr",
     "output_type": "stream",
     "text": [
      "/usr/local/lib/python3.5/dist-packages/IPython/core/interactiveshell.py:2870: UserWarning: To exit: use 'exit', 'quit', or Ctrl-D.\n",
      "  warn(\"To exit: use 'exit', 'quit', or Ctrl-D.\", stacklevel=1)\n"
     ]
    }
   ],
   "source": [
    "import sys\n",
    "import argparse\n",
    "from scipy.misc import imread, imsave\n",
    "import numpy\n",
    "import time\n",
    "import scipy.sparse\n",
    "import scipy.sparse.linalg\n",
    "import scipy.spatial\n",
    "\n",
    "def gaussian_kernel(data, sigma, max_distance, rho, gamma):\n",
    "    \"\"\"Compute the gaussian kernel matrix.\n",
    "\n",
    "    :param data: data matrix\n",
    "    :param sigma: parameter sigma of the gaussian kernel\n",
    "    :return: gaussian kernel matrix\n",
    "    \"\"\"\n",
    "    rho = rho\n",
    "    gamma = gamma\n",
    "    \n",
    "    assert len(data.shape) == 2\n",
    "    assert sigma > 0\n",
    "\n",
    "    factor = -0.5 /  (sigma ** 2)\n",
    "    limit = numpy.exp(factor*max_distance**2)\n",
    "    # Find the pairwise squared distances and compute the Gaussian kernel.\n",
    "    K = []\n",
    "    for k in data:\n",
    "        d = numpy.exp(-(numpy.sum((data - k)**2,axis=1)/rho**2)**(gamma/2))\n",
    "        d[d < limit] = 0.0  # truncate the Gaussian\n",
    "        d = scipy.sparse.csc_matrix(d[:,None])\n",
    "        K.append(d)\n",
    "    K = scipy.sparse.hstack(K)\n",
    "    return K\n",
    "\n",
    "def compute_alpha(train_x, train_y, tau, sigma, max_distance, rho, gamma):\n",
    "    \"\"\"Compute the alpha vector of the ridge regressor.\n",
    "\n",
    "    :param train_x: training x data\n",
    "    :param train_y: training y data\n",
    "    :param tau: parameter tau of the ridge regressor\n",
    "    :param sigma: parameter sigma of the gaussian kernel\n",
    "    :return: alpha vector\n",
    "    \"\"\"\n",
    "    print(\"building input kernel matrix\")\n",
    "    K = gaussian_kernel(train_x, sigma, max_distance, rho, gamma)\n",
    "    print(\"sparsity: {:.3f}\".format(float(100*K.nnz) / (K.shape[0]*K.shape[1])))\n",
    "    M = K + tau * scipy.sparse.identity(train_x.shape[0])\n",
    "    y = scipy.sparse.csc_matrix(train_y[:,None])\n",
    "    print(\"solving sparse system\")\n",
    "    alpha = scipy.sparse.linalg.cg(M, train_y)\n",
    "    print(\"done computing alpha\")\n",
    "    return alpha[0]\n",
    "\n",
    "class KernelRidgeRegressor(object):\n",
    "    \"\"\"Kernel Ridge Regressor.\n",
    "    \"\"\"\n",
    "\n",
    "    def __init__(self, tau, sigma, rho, gamma):\n",
    "        self.dim = None\n",
    "        self.train_x = None\n",
    "        self.alpha = None\n",
    "        self.mean_y = None\n",
    "        self.std_y = None\n",
    "        self.tau = tau\n",
    "        self.sigma = sigma\n",
    "        self.scale = -0.5 / sigma**2\n",
    "        self.max_distance = 4.0*sigma\n",
    "        self.rho = rho\n",
    "        self.gamma = gamma\n",
    "\n",
    "    def train(self, train_x, train_y):\n",
    "        \"\"\"Train the kernel ridge regressor.\n",
    "\n",
    "        :param train_x: training x data\n",
    "        :param train_y: training y data\n",
    "        \"\"\"\n",
    "        assert len(train_x.shape) == 2\n",
    "        assert len(train_y.shape) == 1\n",
    "        assert train_x.shape[0] == train_y.shape[0]\n",
    "\n",
    "        self.dim = train_x.shape[1]\n",
    "        self.train_x = train_x.astype(numpy.float32)\n",
    "        self.tree = scipy.spatial.cKDTree(self.train_x)\n",
    "\n",
    "        self.mean_y = train_y.mean()\n",
    "        self.std_y = train_y.std()\n",
    "        train_y_std = (train_y - self.mean_y) / self.std_y\n",
    "\n",
    "        self.alpha = compute_alpha(self.train_x, train_y_std, self.tau, self.sigma, self.max_distance, self.rho, self.gamma)\n",
    "\n",
    "\n",
    "    def predict_single(self, pred_x):\n",
    "        \"\"\"Predict the value of a single instance.\n",
    "\n",
    "        :param pred_x: x data\n",
    "        :return: predicted value of pred_x\n",
    "        \"\"\"\n",
    "        assert len(pred_x.shape) == 1\n",
    "        assert pred_x.shape[0] == self.dim\n",
    "        #print(\"pred_x\",pred_x)\n",
    "        indices = numpy.asarray(self.tree.query_ball_point(pred_x, self.max_distance))\n",
    "        #print(self.tree.query_ball_point(pred_x, self.max_distance))\n",
    "        dist = numpy.sum((self.train_x[indices]-pred_x)**2, axis=1)\n",
    "        kappa = numpy.exp(self.scale*dist)\n",
    "        pred_y = numpy.dot(kappa, self.alpha[indices])\n",
    "        return self.std_y * pred_y + self.mean_y\n",
    "\n",
    "    def predict(self, pred_x):\n",
    "        \"\"\"Predict the values of pred_x.\n",
    "\n",
    "        :param pred_x: x data\n",
    "        :return: predicted values of pred_x\n",
    "        \"\"\"\n",
    "        assert len(pred_x.shape) == 2\n",
    "        assert pred_x.shape[1] == self.dim\n",
    "        pred_x = pred_x.astype(numpy.float32)\n",
    "        return numpy.array([self.predict_single(x) for x in pred_x])\n",
    "\n",
    "\n",
    "def kernel_ridge_regression(tau, sigma, rho, gamma):\n",
    "    # Load the image.\n",
    "    im_orig = numpy.squeeze(imread(\"cc_90.png\"))\n",
    "\n",
    "    # Make a copy, so both the original and the regressed image can be shown afterwards.\n",
    "    im = numpy.array(im_orig)\n",
    "\n",
    "    # Find the known pixels and the pixels that shall be predicted.\n",
    "    known_ind = numpy.where(im != 0)\n",
    "    unknown_ind = numpy.where(im == 0)\n",
    "    known_x = numpy.array(known_ind).transpose()\n",
    "    known_y = numpy.array(im[known_ind])\n",
    "    pred_x = numpy.array(unknown_ind).transpose()\n",
    "\n",
    "    # Train and predict with the given regressor.\n",
    "    start = time.time()\n",
    "    print(\"training...\")\n",
    "    r = KernelRidgeRegressor(tau, sigma, rho, gamma)\n",
    "    r.train(known_x, known_y)\n",
    "    print(\"done training\")\n",
    "    # pickle.dump(r, open(\"regressor.p\", \"wb\"))\n",
    "    # r = pickle.load(open(\"regressor.p\", \"rb\"))\n",
    "    print(\"predicting...\")\n",
    "    pred_y = r.predict(pred_x)\n",
    "    print(\"done predicting\")\n",
    "\n",
    "    # Write the predicted values back into the image and show the result.\n",
    "    im[unknown_ind] = pred_y\n",
    "    stop = time.time()\n",
    "    print(\"Train and predict took {:.3f} seconds.\".format(stop-start))\n",
    "    print(im.shape)\n",
    "    imsave(\"res.png\", im)\n",
    "    return im\n",
    "\n",
    "def process_command_line():\n",
    "    \"\"\"Parse the command line arguments.\n",
    "    \"\"\"\n",
    "    parser = argparse.ArgumentParser(description=\"Machine Learning exercise 5.\",\n",
    "                                     formatter_class=argparse.ArgumentDefaultsHelpFormatter)\n",
    "    parser.add_argument(\"-t\", \"--tau\", type=float, default=0.3,\n",
    "                        help=\"parameter tau for ridge regression\")\n",
    "    parser.add_argument(\"-s\", \"--sigma\", type=float, default=4.0,\n",
    "                        help=\"parameter sigma of the gaussians\")\n",
    "    \n",
    "    return parser.parse_args()\n",
    "\n",
    "\n",
    "def main():\n",
    "    \"\"\"Call the exercises.\n",
    "    \"\"\"\n",
    "    # Read the command line arguments.\n",
    "    #args = process_command_line()\n",
    "    kernel_ridge_regression(0.8, 2, 3.0, 1.0)\n",
    "    return 0\n",
    "\n",
    "\n",
    "if __name__ == \"__main__\":\n",
    "    status = main()\n",
    "    sys.exit(status)\n"
   ]
  },
  {
   "cell_type": "code",
   "execution_count": 5,
   "metadata": {},
   "outputs": [
    {
     "data": {
      "text/plain": [
       "Text(0.5,1,'corrupted image')"
      ]
     },
     "execution_count": 5,
     "metadata": {},
     "output_type": "execute_result"
    }
   ],
   "source": [
    "import matplotlib.pyplot as plt\n",
    "\n",
    "plt.imshow(plt.imread(\"cc_90.png\"), cmap=\"gray\")\n",
    "plt.title(\"corrupted image\")"
   ]
  },
  {
   "cell_type": "code",
   "execution_count": 6,
   "metadata": {},
   "outputs": [
    {
     "data": {
      "text/plain": [
       "Text(0.5,1,'reconstructed image')"
      ]
     },
     "execution_count": 6,
     "metadata": {},
     "output_type": "execute_result"
    }
   ],
   "source": [
    "plt.imshow(plt.imread(\"res.png\"), cmap=\"gray\")\n",
    "plt.title(\"reconstructed image\")"
   ]
  },
  {
   "cell_type": "code",
   "execution_count": 7,
   "metadata": {},
   "outputs": [
    {
     "data": {
      "text/plain": [
       "Text(0.5,1,'original image')"
      ]
     },
     "execution_count": 7,
     "metadata": {},
     "output_type": "execute_result"
    }
   ],
   "source": [
    "plt.imshow(plt.imread(\"charlie-chaplin.jpg\"), cmap=\"gray\")\n",
    "plt.title(\"original image\")"
   ]
  },
  {
   "cell_type": "markdown",
   "metadata": {},
   "source": [
    "The inverse is computed by using conjugate gradient iteration. This solves the equation $(K + \\tau*1\\!\\!1)D = y$ for D"
   ]
  },
  {
   "cell_type": "markdown",
   "metadata": {},
   "source": [
    "All computations are made with a sparse datastructure which is a good choice because many entries of the Kernel matrix are zero."
   ]
  },
  {
   "cell_type": "code",
   "execution_count": null,
   "metadata": {
    "collapsed": true
   },
   "outputs": [],
   "source": []
  }
 ],
 "metadata": {
  "kernelspec": {
   "display_name": "Python 3",
   "language": "python",
   "name": "python3"
  },
  "language_info": {
   "codemirror_mode": {
    "name": "ipython",
    "version": 3
   },
   "file_extension": ".py",
   "mimetype": "text/x-python",
   "name": "python",
   "nbconvert_exporter": "python",
   "pygments_lexer": "ipython3",
   "version": "3.5.2"
  }
 },
 "nbformat": 4,
 "nbformat_minor": 2
}
